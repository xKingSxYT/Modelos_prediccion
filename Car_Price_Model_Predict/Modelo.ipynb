{
 "cells": [
  {
   "cell_type": "code",
   "execution_count": 1,
   "metadata": {},
   "outputs": [],
   "source": [
    "import pandas as pd\n",
    "import numpy as np\n",
    "import matplotlib.pyplot as plt\n",
    "import seaborn as sns\n",
    "import statsmodels.api as sm \n",
    "from sklearn.model_selection import train_test_split,cross_val_score,GridSearchCV\n",
    "from keras.wrappers.scikit_learn import KerasClassifier,KerasRegressor\n",
    "import keras\n",
    "from keras.models import Sequential\n",
    "from keras.layers import Dense\n",
    "from keras.layers import Dropout\n",
    "from keras.callbacks import EarlyStopping\n",
    "from sklearn.linear_model import LinearRegression\n",
    "from sklearn.ensemble import RandomForestRegressor,GradientBoostingRegressor,AdaBoostRegressor\n",
    "from sklearn.tree import DecisionTreeRegressor\n",
    "from sklearn.preprocessing import StandardScaler\n",
    "from sklearn.metrics import r2_score,mean_squared_error\n",
    "from sklearn.datasets import make_regression\n",
    "from sklearn import metrics\n",
    "import math\n",
    "from sklearn.preprocessing import LabelEncoder,OneHotEncoder"
   ]
  },
  {
   "cell_type": "code",
   "execution_count": 2,
   "metadata": {},
   "outputs": [],
   "source": [
    "df=pd.read_csv('data/data_procesada.csv')"
   ]
  },
  {
   "cell_type": "code",
   "execution_count": 3,
   "metadata": {},
   "outputs": [
    {
     "name": "stdout",
     "output_type": "stream",
     "text": [
      "<class 'pandas.core.frame.DataFrame'>\n",
      "RangeIndex: 6019 entries, 0 to 6018\n",
      "Data columns (total 27 columns):\n",
      " #   Column                     Non-Null Count  Dtype  \n",
      "---  ------                     --------------  -----  \n",
      " 0   Kilometers_Driven          6019 non-null   int64  \n",
      " 1   Mileage                    6019 non-null   float64\n",
      " 2   Engine                     6019 non-null   int64  \n",
      " 3   Power                      6019 non-null   float64\n",
      " 4   Seats                      6019 non-null   float64\n",
      " 5   Price                      6019 non-null   float64\n",
      " 6   Year_Since                 6019 non-null   float64\n",
      " 7   Model                      6019 non-null   int64  \n",
      " 8   Brand                      6019 non-null   int64  \n",
      " 9   Location;Bangalore         6019 non-null   int64  \n",
      " 10  Location;Chennai           6019 non-null   int64  \n",
      " 11  Location;Coimbatore        6019 non-null   int64  \n",
      " 12  Location;Delhi             6019 non-null   int64  \n",
      " 13  Location;Hyderabad         6019 non-null   int64  \n",
      " 14  Location;Jaipur            6019 non-null   int64  \n",
      " 15  Location;Kochi             6019 non-null   int64  \n",
      " 16  Location;Kolkata           6019 non-null   int64  \n",
      " 17  Location;Mumbai            6019 non-null   int64  \n",
      " 18  Location;Pune              6019 non-null   int64  \n",
      " 19  Fuel_Type;Diesel           6019 non-null   int64  \n",
      " 20  Fuel_Type;Electric         6019 non-null   int64  \n",
      " 21  Fuel_Type;LPG              6019 non-null   int64  \n",
      " 22  Fuel_Type;Petrol           6019 non-null   int64  \n",
      " 23  Transmission;Manual        6019 non-null   int64  \n",
      " 24  Owner_Type;Fourth & Above  6019 non-null   int64  \n",
      " 25  Owner_Type;Second          6019 non-null   int64  \n",
      " 26  Owner_Type;Third           6019 non-null   int64  \n",
      "dtypes: float64(5), int64(22)\n",
      "memory usage: 1.2 MB\n"
     ]
    }
   ],
   "source": [
    "df.info()"
   ]
  },
  {
   "cell_type": "code",
   "execution_count": 4,
   "metadata": {},
   "outputs": [],
   "source": [
    "y=df['Price'].values\n",
    "x=df.drop(['Price'],axis=1).values"
   ]
  },
  {
   "cell_type": "code",
   "execution_count": 5,
   "metadata": {},
   "outputs": [],
   "source": [
    "X_train,X_test,y_train,y_test=train_test_split(x,y,test_size=0.2,random_state=42)"
   ]
  },
  {
   "cell_type": "code",
   "execution_count": 6,
   "metadata": {},
   "outputs": [],
   "source": [
    "sc_X=StandardScaler()\n",
    "X_train=sc_X.fit_transform(X_train)\n",
    "X_test=sc_X.transform(X_test)"
   ]
  },
  {
   "cell_type": "code",
   "execution_count": 7,
   "metadata": {},
   "outputs": [
    {
     "name": "stdout",
     "output_type": "stream",
     "text": [
      "Regresión Lineal\n",
      "Mejor puntaje (R2): 0.4398153335798883\n",
      "Mejores hiperparámetros: {'copy_X': True, 'fit_intercept': True, 'n_jobs': None, 'normalize': 'deprecated', 'positive': False}\n",
      "---\n",
      "Árbol de Decisión\n",
      "Mejor puntaje (R2): 0.8004996873305847\n",
      "Mejores hiperparámetros: {'ccp_alpha': 0.0, 'criterion': 'squared_error', 'max_depth': 10, 'max_features': None, 'max_leaf_nodes': None, 'min_impurity_decrease': 0.0, 'min_samples_leaf': 1, 'min_samples_split': 2, 'min_weight_fraction_leaf': 0.0, 'random_state': None, 'splitter': 'best'}\n",
      "---\n",
      "Random Forest\n",
      "Mejor puntaje (R2): 0.8974430443691533\n",
      "Mejores hiperparámetros: {'bootstrap': True, 'ccp_alpha': 0.0, 'criterion': 'squared_error', 'max_depth': None, 'max_features': 'auto', 'max_leaf_nodes': None, 'max_samples': None, 'min_impurity_decrease': 0.0, 'min_samples_leaf': 1, 'min_samples_split': 2, 'min_weight_fraction_leaf': 0.0, 'n_estimators': 100, 'n_jobs': None, 'oob_score': False, 'random_state': None, 'verbose': 0, 'warm_start': False}\n",
      "---\n"
     ]
    }
   ],
   "source": [
    "def encontrar_mejor_modelo(X_train, y_train, modelos, hiperparametros, cv=5, scoring='r2'):\n",
    "    mejores_modelos = {}\n",
    "    \n",
    "    for nombre_modelo, modelo in modelos.items():\n",
    "        params = hiperparametros[nombre_modelo]\n",
    "        \n",
    "        grid_search = GridSearchCV(estimator=modelo, param_grid=params, cv=cv, scoring=scoring)\n",
    "        grid_search.fit(X_train, y_train)\n",
    "        \n",
    "        mejor_modelo = grid_search.best_estimator_\n",
    "        mejor_puntaje = grid_search.best_score_\n",
    "        \n",
    "        mejores_modelos[nombre_modelo] = {'modelo': mejor_modelo, 'puntaje': mejor_puntaje}\n",
    "        \n",
    "    return mejores_modelos\n",
    "\n",
    "\n",
    "modelos = {\n",
    "    'Regresión Lineal': LinearRegression(),\n",
    "    'Árbol de Decisión': DecisionTreeRegressor(),\n",
    "    'Random Forest': RandomForestRegressor()\n",
    "}\n",
    "\n",
    "hiperparametros = {\n",
    "    'Regresión Lineal': {},\n",
    "    'Árbol de Decisión': {'max_depth': [None, 5, 10]},\n",
    "    'Random Forest': {'n_estimators': [10, 50, 100], 'max_depth': [None, 5, 10]}\n",
    "}\n",
    "\n",
    "\n",
    "mejores_modelos = encontrar_mejor_modelo(X_train, y_train, modelos, hiperparametros)\n",
    "\n",
    "for nombre_modelo, info_modelo in mejores_modelos.items():\n",
    "    print(nombre_modelo)\n",
    "    print('Mejor puntaje (R2):', info_modelo['puntaje'])\n",
    "    print('Mejores hiperparámetros:', info_modelo['modelo'].get_params())\n",
    "    print('---')"
   ]
  },
  {
   "cell_type": "code",
   "execution_count": 8,
   "metadata": {},
   "outputs": [],
   "source": [
    "regresion=Sequential()\n",
    "regresion.add(Dense(units=6,activation='relu'))\n",
    "regresion.add(Dense(units=6,activation='relu'))\n",
    "regresion.add(Dense(units=6,activation='relu'))\n",
    "regresion.add(Dense(units=1))\n",
    "regresion.compile(optimizer='adam',loss='mean_squared_error')"
   ]
  },
  {
   "cell_type": "code",
   "execution_count": 9,
   "metadata": {},
   "outputs": [
    {
     "name": "stdout",
     "output_type": "stream",
     "text": [
      "Epoch 1/100\n",
      "151/151 [==============================] - 1s 1ms/step - loss: 211.4938 - val_loss: 180.5667\n",
      "Epoch 2/100\n",
      "151/151 [==============================] - 0s 794us/step - loss: 131.5816 - val_loss: 66.6083\n",
      "Epoch 3/100\n",
      "151/151 [==============================] - 0s 784us/step - loss: 48.4501 - val_loss: 40.1104\n",
      "Epoch 4/100\n",
      "151/151 [==============================] - 0s 784us/step - loss: 36.3006 - val_loss: 35.7754\n",
      "Epoch 5/100\n",
      "151/151 [==============================] - 0s 784us/step - loss: 31.6440 - val_loss: 33.2830\n",
      "Epoch 6/100\n",
      "151/151 [==============================] - 0s 794us/step - loss: 28.9366 - val_loss: 31.3852\n",
      "Epoch 7/100\n",
      "151/151 [==============================] - 0s 827us/step - loss: 27.1312 - val_loss: 30.1129\n",
      "Epoch 8/100\n",
      "151/151 [==============================] - 0s 797us/step - loss: 25.9316 - val_loss: 28.7474\n",
      "Epoch 9/100\n",
      "151/151 [==============================] - 0s 784us/step - loss: 24.9953 - val_loss: 27.7917\n",
      "Epoch 10/100\n",
      "151/151 [==============================] - 0s 784us/step - loss: 24.3714 - val_loss: 26.9768\n",
      "Epoch 11/100\n",
      "151/151 [==============================] - 0s 791us/step - loss: 23.6989 - val_loss: 25.8807\n",
      "Epoch 12/100\n",
      "151/151 [==============================] - 0s 787us/step - loss: 23.1489 - val_loss: 25.0439\n",
      "Epoch 13/100\n",
      "151/151 [==============================] - 0s 791us/step - loss: 22.7798 - val_loss: 24.6388\n",
      "Epoch 14/100\n",
      "151/151 [==============================] - 0s 801us/step - loss: 22.1919 - val_loss: 24.3998\n",
      "Epoch 15/100\n",
      "151/151 [==============================] - 0s 804us/step - loss: 21.7821 - val_loss: 23.5150\n",
      "Epoch 16/100\n",
      "151/151 [==============================] - 0s 787us/step - loss: 21.3648 - val_loss: 23.2426\n",
      "Epoch 17/100\n",
      "151/151 [==============================] - 0s 804us/step - loss: 20.9985 - val_loss: 23.0189\n",
      "Epoch 18/100\n",
      "151/151 [==============================] - 0s 801us/step - loss: 20.7206 - val_loss: 22.6849\n",
      "Epoch 19/100\n",
      "151/151 [==============================] - 0s 807us/step - loss: 20.4112 - val_loss: 22.6540\n",
      "Epoch 20/100\n",
      "151/151 [==============================] - 0s 807us/step - loss: 20.3432 - val_loss: 22.3219\n",
      "Epoch 21/100\n",
      "151/151 [==============================] - 0s 784us/step - loss: 19.8808 - val_loss: 22.0463\n",
      "Epoch 22/100\n",
      "151/151 [==============================] - 0s 774us/step - loss: 19.5975 - val_loss: 21.9328\n",
      "Epoch 23/100\n",
      "151/151 [==============================] - 0s 811us/step - loss: 19.3847 - val_loss: 21.6457\n",
      "Epoch 24/100\n",
      "151/151 [==============================] - 0s 777us/step - loss: 19.0033 - val_loss: 21.6436\n",
      "Epoch 25/100\n",
      "151/151 [==============================] - 0s 777us/step - loss: 18.7189 - val_loss: 21.3331\n",
      "Epoch 26/100\n",
      "151/151 [==============================] - 0s 787us/step - loss: 18.3444 - val_loss: 21.2587\n",
      "Epoch 27/100\n",
      "151/151 [==============================] - 0s 787us/step - loss: 18.0975 - val_loss: 21.2556\n",
      "Epoch 28/100\n",
      "151/151 [==============================] - 0s 784us/step - loss: 17.8734 - val_loss: 21.2662\n",
      "Epoch 29/100\n",
      "151/151 [==============================] - 0s 777us/step - loss: 17.5244 - val_loss: 20.9228\n",
      "Epoch 30/100\n",
      "151/151 [==============================] - 0s 777us/step - loss: 17.3970 - val_loss: 21.1878\n",
      "Epoch 31/100\n",
      "151/151 [==============================] - 0s 797us/step - loss: 17.0666 - val_loss: 20.8956\n",
      "Epoch 32/100\n",
      "151/151 [==============================] - 0s 784us/step - loss: 16.9712 - val_loss: 20.8609\n",
      "Epoch 33/100\n",
      "151/151 [==============================] - 0s 784us/step - loss: 16.7670 - val_loss: 21.1382\n",
      "Epoch 34/100\n",
      "151/151 [==============================] - 0s 834us/step - loss: 16.5782 - val_loss: 21.0358\n",
      "Epoch 35/100\n",
      "151/151 [==============================] - 0s 797us/step - loss: 16.4366 - val_loss: 21.2009\n",
      "Epoch 36/100\n",
      "151/151 [==============================] - 0s 781us/step - loss: 16.3229 - val_loss: 21.2377\n"
     ]
    },
    {
     "data": {
      "text/plain": [
       "<keras.callbacks.History at 0x248a55c2f10>"
      ]
     },
     "execution_count": 9,
     "metadata": {},
     "output_type": "execute_result"
    }
   ],
   "source": [
    "regresion.compile(optimizer='adam',loss='mean_squared_error')\n",
    "regresion.fit(X_train,y_train,epochs=100,batch_size=32,validation_data=(X_test,y_test),callbacks=EarlyStopping(monitor='val_loss',patience=4))"
   ]
  },
  {
   "cell_type": "code",
   "execution_count": 10,
   "metadata": {},
   "outputs": [
    {
     "data": {
      "text/plain": [
       "<Axes: >"
      ]
     },
     "execution_count": 10,
     "metadata": {},
     "output_type": "execute_result"
    },
    {
     "data": {
      "image/png": "[encoded data removed]",
      "text/plain": [
       "<Figure size 1200x1000 with 1 Axes>"
      ]
     },
     "metadata": {},
     "output_type": "display_data"
    }
   ],
   "source": [
    "losses=pd.DataFrame(regresion.history.history)\n",
    "plt.style.use(\"ggplot\")\n",
    "losses.plot(figsize=(12,10))"
   ]
  },
  {
   "cell_type": "code",
   "execution_count": 11,
   "metadata": {},
   "outputs": [
    {
     "name": "stdout",
     "output_type": "stream",
     "text": [
      "38/38 [==============================] - 0s 487us/step\n"
     ]
    },
    {
     "data": {
      "text/html": [
       "<div>\n",
       "<style scoped>\n",
       "    .dataframe tbody tr th:only-of-type {\n",
       "        vertical-align: middle;\n",
       "    }\n",
       "\n",
       "    .dataframe tbody tr th {\n",
       "        vertical-align: top;\n",
       "    }\n",
       "\n",
       "    .dataframe thead th {\n",
       "        text-align: right;\n",
       "    }\n",
       "</style>\n",
       "<table border=\"1\" class=\"dataframe\">\n",
       "  <thead>\n",
       "    <tr style=\"text-align: right;\">\n",
       "      <th></th>\n",
       "      <th>Precio_Real</th>\n",
       "      <th>Predicciones</th>\n",
       "    </tr>\n",
       "  </thead>\n",
       "  <tbody>\n",
       "    <tr>\n",
       "      <th>0</th>\n",
       "      <td>5.75</td>\n",
       "      <td>4.53</td>\n",
       "    </tr>\n",
       "    <tr>\n",
       "      <th>1</th>\n",
       "      <td>10.08</td>\n",
       "      <td>9.16</td>\n",
       "    </tr>\n",
       "    <tr>\n",
       "      <th>2</th>\n",
       "      <td>7.85</td>\n",
       "      <td>8.00</td>\n",
       "    </tr>\n",
       "    <tr>\n",
       "      <th>3</th>\n",
       "      <td>2.40</td>\n",
       "      <td>5.65</td>\n",
       "    </tr>\n",
       "    <tr>\n",
       "      <th>4</th>\n",
       "      <td>1.60</td>\n",
       "      <td>2.97</td>\n",
       "    </tr>\n",
       "  </tbody>\n",
       "</table>\n",
       "</div>"
      ],
      "text/plain": [
       "   Precio_Real  Predicciones\n",
       "0         5.75          4.53\n",
       "1        10.08          9.16\n",
       "2         7.85          8.00\n",
       "3         2.40          5.65\n",
       "4         1.60          2.97"
      ]
     },
     "execution_count": 11,
     "metadata": {},
     "output_type": "execute_result"
    }
   ],
   "source": [
    "predict=regresion.predict(X_test)\n",
    "predict_df=pd.DataFrame(np.ravel(predict),columns=['Predicciones'])\n",
    "comparasion_df=pd.concat([pd.DataFrame(y_test,columns=['Precio_Real']),predict_df],axis=1)\n",
    "comparasion_df.round(2)\n",
    "comparasion_df.round(2).head(5)"
   ]
  },
  {
   "cell_type": "code",
   "execution_count": 12,
   "metadata": {},
   "outputs": [
    {
     "name": "stdout",
     "output_type": "stream",
     "text": [
      "MAE: 2.27803581471459\n",
      "MSE: 21.237726847021005\n",
      "RMSE: 4.608440826030102\n",
      "0.8274277647903374\n"
     ]
    }
   ],
   "source": [
    "print(\"MAE:\",metrics.mean_absolute_error(y_test,predict))\n",
    "print (\"MSE:\",metrics.mean_squared_error(y_test,predict))\n",
    "print(\"RMSE:\",np.sqrt(metrics.mean_squared_error(y_test,predict)))\n",
    "print(metrics.explained_variance_score(y_test,predict))"
   ]
  }
 ],
 "metadata": {
  "kernelspec": {
   "display_name": "base",
   "language": "python",
   "name": "python3"
  },
  "language_info": {
   "codemirror_mode": {
    "name": "ipython",
    "version": 3
   },
   "file_extension": ".py",
   "mimetype": "text/x-python",
   "name": "python",
   "nbconvert_exporter": "python",
   "pygments_lexer": "ipython3",
   "version": "3.9.16"
  },
  "orig_nbformat": 4
 },
 "nbformat": 4,
 "nbformat_minor": 2
}
